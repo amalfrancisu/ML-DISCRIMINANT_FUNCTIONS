{
 "cells": [
  {
   "cell_type": "code",
   "execution_count": 1,
   "metadata": {},
   "outputs": [],
   "source": [
    "import numpy as np\n",
    "import math\n",
    "import warnings as w\n",
    "w.filterwarnings(\"ignore\",category=RuntimeWarning)"
   ]
  },
  {
   "cell_type": "code",
   "execution_count": 2,
   "metadata": {},
   "outputs": [],
   "source": [
    "w1x1 = [-5.01, -5.43, 1.08, 0.86, -2.67, 4.94, -2.51, -2.25, 5.56, 1.03]\n",
    "w1x2 = [-8.12, -3.48, -5.52, -3.78, 0.63, 3.29, 2.09, -2.13, 2.86, -3.33]\n",
    "w1x3 = [-3.68, -3.54, 1.66, -4.11, 7.39, 2.08, -2.59, -6.94, -2.26, 4.33]"
   ]
  },
  {
   "cell_type": "code",
   "execution_count": 3,
   "metadata": {},
   "outputs": [],
   "source": [
    "w2x1 = [-0.91, 1.30, -7.75, -5.47, 6.14, 3.60, 5.37, 7.18, -7.39, -7.50]\n",
    "w2x2 = [-0.18, -2.06, -4.54, 0.50, 5.72, 1.26, -4.63, 1.46, 1.17, -6.32]\n",
    "w2x3 = [-0.05, -3.53, -0.95, 3.92, -4.85, 4.36, -3.65, -6.66, 6.30, -0.31]"
   ]
  },
  {
   "cell_type": "code",
   "execution_count": 4,
   "metadata": {},
   "outputs": [],
   "source": [
    "w3x1 = [5.35, 5.12, -1.34, 4.48, 7.11, 7.17, 5.75, 0.77, 0.90, 3.52]\n",
    "w3x2 = [2.26, 3.22, -5.31, 3.42, 2.39, 4.33, 3.97, 0.27, -0.43, -0.36]\n",
    "w3x3 = [8.13, -2.66, -9.87, 5.19, 9.21, -0.98, 6.65, 2.41, -8.71, 6.43]"
   ]
  },
  {
   "cell_type": "code",
   "execution_count": 5,
   "metadata": {},
   "outputs": [
    {
     "data": {
      "text/plain": [
       "array([-0.44 , -1.749, -0.766])"
      ]
     },
     "execution_count": 5,
     "metadata": {},
     "output_type": "execute_result"
    }
   ],
   "source": [
    "w1x1_m = np.mean(w1x1)\n",
    "w1x2_m = np.mean(w1x2)\n",
    "w1x3_m = np.mean(w1x3)\n",
    "w2x1_m = np.mean(w2x1)\n",
    "w2x2_m = np.mean(w2x2)\n",
    "w2x3_m = np.mean(w2x3)\n",
    "w3x1_m = np.mean(w3x1)\n",
    "w3x2_m = np.mean(w3x2)\n",
    "w3x3_m = np.mean(w3x3)\n",
    "w1_m = np.array([w1x1_m, w1x2_m, w1x3_m])\n",
    "w2_m = np.array([w2x1_m, w2x2_m, w2x3_m])\n",
    "w3_m = np.array([w3x1_m, w3x2_m, w3x3_m])\n",
    "w1_m_2d = np.array([w1x1_m, w1x2_m])\n",
    "w2_m_2d = np.array([w2x1_m, w2x2_m])\n",
    "w3_m_2d = np.array([w3x1_m, w3x2_m])\n",
    "w1_m"
   ]
  },
  {
   "cell_type": "markdown",
   "metadata": {},
   "source": [
    "# For one Feature"
   ]
  },
  {
   "cell_type": "code",
   "execution_count": 6,
   "metadata": {},
   "outputs": [],
   "source": [
    "cov_w1x1 = np.cov(w1x1)\n",
    "det_w1x1 = np.array(cov_w1x1)\n",
    "inverse_w1x1 = np.array([1/cov_w1x1])\n",
    "\n",
    "cov_w2x1 = np.cov(w2x1)\n",
    "det_w2x1 = np.array(cov_w2x1)\n",
    "inverse_w2x1 = np.array([1/cov_w2x1])\n",
    "\n",
    "cov_w3x1 = np.cov(w3x1)\n",
    "det_w3x1 = np.array(cov_w3x1)\n",
    "inverse_w3x1 = np.array([1/cov_w3x1])\n"
   ]
  },
  {
   "cell_type": "code",
   "execution_count": 7,
   "metadata": {},
   "outputs": [],
   "source": [
    "def xmean(x , mean) :\n",
    "    return (x - mean)"
   ]
  },
  {
   "cell_type": "code",
   "execution_count": 8,
   "metadata": {},
   "outputs": [],
   "source": [
    "def q2a_g1(x) :\n",
    "    a1 = [xmean(x, w1x1_m)]\n",
    "    a1 = np.expand_dims(a1,axis=0)\n",
    "    a2 = np.transpose(a1)\n",
    "    a3 = (-1/2) * 1 * np.log(2 * math.pi)\n",
    "    a4 = (-1/2) * np.log(det_w1x1)\n",
    "    a5 = np.matmul(a1,inverse_w1x1)\n",
    "    a6 = np.matmul(a5,a2)\n",
    "    g = (-1/2) * a6 + a3 + a4 + np.log(1/2) #Assuming prior probability is 1/2\n",
    "    return g[0]"
   ]
  },
  {
   "cell_type": "code",
   "execution_count": 9,
   "metadata": {},
   "outputs": [],
   "source": [
    "def q2a_g2(x) :\n",
    "    a1 = [xmean(x, w2x1_m)]\n",
    "    a1 = np.expand_dims(a1,axis=0)\n",
    "    a2 = np.transpose(a1)\n",
    "    a3 = (-1/2) * 1 * np.log(2 * math.pi)\n",
    "    a4 = (-1/2) * np.log(det_w2x1)\n",
    "    a5 = np.matmul(a1,inverse_w2x1)\n",
    "    a6 = np.matmul(a5,a2)\n",
    "    g = (-1/2) * a6 + a3 + a4 + np.log(1/2) #Assuming prior probability is 1/2\n",
    "    return g[0]"
   ]
  },
  {
   "cell_type": "code",
   "execution_count": 10,
   "metadata": {},
   "outputs": [],
   "source": [
    "def q2a_g3(x) :\n",
    "    a1 = [xmean(x, w3x1_m)]\n",
    "    a1 = np.expand_dims(a1,axis=0)\n",
    "    a2 = np.transpose(a1)\n",
    "    a3 = (-1/2) * 1 * np.log(2 * math.pi)\n",
    "    a4 = (-1/2) * np.log(det_w3x1)\n",
    "    a5 = np.matmul(a1,inverse_w3x1)\n",
    "    a6 = np.matmul(a5,a2)\n",
    "    g = (-1/2) * a6 + a3 + a4 + np.log(0) #Assuming prior probability is 0\n",
    "    return g[0]"
   ]
  },
  {
   "cell_type": "code",
   "execution_count": 29,
   "metadata": {},
   "outputs": [
    {
     "name": "stdout",
     "output_type": "stream",
     "text": [
      "-3.6711755718438246\n",
      "-3.6861324405954443\n",
      "-inf\n"
     ]
    }
   ],
   "source": [
    "x = np.array(-5.01)\n",
    "print(np.squeeze(q2a_g1(x)))\n",
    "print(np.squeeze(q2a_g2(x)))\n",
    "print(np.squeeze(q2a_g3(x)))"
   ]
  },
  {
   "cell_type": "code",
   "execution_count": 12,
   "metadata": {},
   "outputs": [
    {
     "name": "stdout",
     "output_type": "stream",
     "text": [
      "Missclassified Percentage in W1 is: 30.0\n",
      "Missclassified Percentage in W2 is: 30.0\n",
      "Missclassified Percentage in W3 is: 100.0\n",
      "Missclassified Percentage in the dataset: 53.333333333333336\n"
     ]
    }
   ],
   "source": [
    "def missclassified_qb():\n",
    "    count1 = 0\n",
    "    for a in w1x1:\n",
    "        if q2a_g1(a) < max(q2a_g2(a),q2a_g3(a)):\n",
    "            count1 += 1\n",
    "        \n",
    "    print(\"Missclassified Percentage in W1 is: \" + str(count1*100/len(w1x1)))\n",
    "    count2 = 0\n",
    "    for a in w2x1:\n",
    "        if q2a_g2(a) < max(q2a_g1(a),q2a_g3(a)):\n",
    "            count2 += 1\n",
    "    print(\"Missclassified Percentage in W2 is: \" + str(count2*100/len(w1x2)))\n",
    "    count3 = 0\n",
    "    for a in w3x1:\n",
    "        if q2a_g3(a) < max(q2a_g1(a),q2a_g2(a)):\n",
    "            count3 += 1\n",
    "    print(\"Missclassified Percentage in W3 is: \" + str(count3*100/len(w1x3)))\n",
    "    print(\"Missclassified Percentage in the dataset: \" + str((count1+count2+count3)*100/(len(w1x1)+len(w1x2)+len(w1x3))))\n",
    "missclassified_qb()"
   ]
  },
  {
   "cell_type": "markdown",
   "metadata": {},
   "source": [
    "# For 2 Features"
   ]
  },
  {
   "cell_type": "code",
   "execution_count": 31,
   "metadata": {},
   "outputs": [],
   "source": [
    "stacked_w1_2d = np.stack((w1x1, w1x2), axis = 0 )\n",
    "cov_w1_2d = np.cov(stacked_w1_2d)\n",
    "det_w1_2d = np.linalg.det(cov_w1_2d)\n",
    "inverse_w1_2d = np.linalg.inv(cov_w1_2d)\n",
    "\n",
    "stacked_w2_2d = np.stack((w2x1, w2x2), axis = 0 )\n",
    "cov_w2_2d = np.cov(stacked_w2_2d)\n",
    "det_w2_2d = np.linalg.det(cov_w2_2d)\n",
    "inverse_w2_2d = np.linalg.inv(cov_w2_2d)\n",
    "\n",
    "\n",
    "stacked_w3_2d = np.stack((w3x1, w3x2), axis = 0 )\n",
    "cov_w3_2d = np.cov(stacked_w3_2d)\n",
    "det_w3_2d = np.linalg.det(cov_w3_2d)\n",
    "inverse_w3_2d = np.linalg.inv(cov_w3_2d)"
   ]
  },
  {
   "cell_type": "code",
   "execution_count": 14,
   "metadata": {},
   "outputs": [],
   "source": [
    "def q2_g1(x, mean, inverse, det) :\n",
    "    a1 = xmean(x, mean)\n",
    "    a1 = np.expand_dims(a1,axis=0)\n",
    "    a2 = np.transpose(a1)\n",
    "    a3 = (-1/2) * x.shape[0] * np.log(2 * math.pi)\n",
    "    a4 = (-1/2) * np.log(det)\n",
    "    a5 = np.matmul(a1,inverse)\n",
    "    a6 = np.matmul(a5,a2)\n",
    "    g = (-1/2) * a6 + a3 + a4 + np.log(1/2) #Assuming prior probability is 1/2\n",
    "    return g"
   ]
  },
  {
   "cell_type": "code",
   "execution_count": 15,
   "metadata": {},
   "outputs": [],
   "source": [
    "def q2_g2(x, mean, inverse, det) :\n",
    "    a1 = xmean(x, mean)\n",
    "    a1 = np.expand_dims(a1,axis=0)\n",
    "    a2 = np.transpose(a1)\n",
    "    a3 = (-1/2) * x.shape[0] * np.log(2 * math.pi)\n",
    "    a4 = (-1/2) * np.log(det)\n",
    "    a5 = np.matmul(a1,inverse)\n",
    "    a6 = np.matmul(a5,a2)\n",
    "    g = (-1/2) * a6 + a3 + a4 + np.log(1/2) #Assuming prior probability is 1/2\n",
    "    return g"
   ]
  },
  {
   "cell_type": "code",
   "execution_count": 16,
   "metadata": {},
   "outputs": [],
   "source": [
    "def q2_g3(x, mean, inverse, det) :\n",
    "    a1 = xmean(x, mean)\n",
    "    a1 = np.expand_dims(a1,axis=0)\n",
    "    a2 = np.transpose(a1)\n",
    "    a3 = (-1/2) * x.shape[0] * np.log(2 * math.pi)\n",
    "    a4 = (-1/2) * np.log(det)\n",
    "    a5 = np.matmul(a1,inverse)\n",
    "    a6 = np.matmul(a5,a2)\n",
    "    g = (-1/2) * a6 + a3 + a4 + np.log(0) #Assuming prior probability is 0\n",
    "    return g"
   ]
  },
  {
   "cell_type": "code",
   "execution_count": 17,
   "metadata": {},
   "outputs": [
    {
     "name": "stdout",
     "output_type": "stream",
     "text": [
      "-6.499467023888501\n",
      "-7.58483495042734\n",
      "-inf\n"
     ]
    }
   ],
   "source": [
    "# For 2 features\n",
    "\n",
    "x = np.array([-5.01, -8.12])\n",
    "print(np.squeeze(q2_g1(x, w1_m_2d, inverse_w1_2d, det_w1_2d)))\n",
    "print(np.squeeze(q2_g2(x, w2_m_2d, inverse_w2_2d, det_w2_2d)))\n",
    "print(np.squeeze(q2_g3(x, w3_m_2d, inverse_w3_2d, det_w3_2d)))"
   ]
  },
  {
   "cell_type": "code",
   "execution_count": 18,
   "metadata": {},
   "outputs": [
    {
     "name": "stdout",
     "output_type": "stream",
     "text": [
      "Missclassified Percentage in W1 is: 50.0\n",
      "Missclassified Percentage in W2 is: 40.0\n",
      "Missclassified Percentage in W3 is: 100.0\n",
      "Missclassified Percentage in the dataset: 63.333333333333336\n"
     ]
    }
   ],
   "source": [
    "def missclassified_qc():\n",
    "    count1 = 0\n",
    "    for i in range(len(w1x1)):\n",
    "        a = np.array([w1x1[i], w1x2[i]])\n",
    "        if q2_g1(a, w1_m_2d, inverse_w1_2d, det_w1_2d) < max(q2_g2(a, w2_m_2d, inverse_w2_2d, det_w2_2d),q2_g3(a, w3_m_2d, inverse_w3_2d, det_w3_2d)):\n",
    "            count1 += 1\n",
    "    print(\"Missclassified Percentage in W1 is: \" + str(count1*100/len(w1x1)))\n",
    "    count2 = 0\n",
    "    for i in range(len(w1x1)):\n",
    "        a = np.array([w2x1[i], w2x2[i]])\n",
    "        if q2_g2(a, w2_m_2d, inverse_w2_2d, det_w2_2d) < max(q2_g1(a, w1_m_2d, inverse_w1_2d, det_w1_2d),q2_g3(a, w3_m_2d, inverse_w3_2d, det_w3_2d)):\n",
    "            count2 += 1\n",
    "    print(\"Missclassified Percentage in W2 is: \" + str(count2*100/len(w1x2)))\n",
    "    count3 = 0\n",
    "    for i in range(len(w1x1)):\n",
    "        a = np.array([w3x1[i], w3x2[i]])\n",
    "        if q2_g3(a, w3_m_2d, inverse_w3_2d, det_w3_2d) < max(q2_g1(a, w1_m_2d, inverse_w1_2d, det_w1_2d),q2_g3(a, w3_m_2d, inverse_w3_2d, det_w3_2d)):\n",
    "            count3 += 1\n",
    "    print(\"Missclassified Percentage in W3 is: \" + str(count3*100/len(w1x3)))\n",
    "    print(\"Missclassified Percentage in the dataset: \" + str((count1+count2+count3)*100/(len(w1x1)+len(w1x2)+len(w1x3))))\n",
    "missclassified_qc()"
   ]
  },
  {
   "cell_type": "markdown",
   "metadata": {},
   "source": [
    "# 3 Features"
   ]
  },
  {
   "cell_type": "code",
   "execution_count": 19,
   "metadata": {},
   "outputs": [],
   "source": [
    "stacked_w1 = np.stack((w1x1, w1x2, w1x3), axis = 0 )\n",
    "cov_w1 = np.cov(stacked_w1)\n",
    "det_w1 = np.linalg.det(cov_w1)\n",
    "inverse_w1 = np.linalg.inv(cov_w1)\n",
    "\n",
    "stacked_w2 = np.stack((w2x1, w2x2, w2x3), axis = 0 )\n",
    "cov_w2 = np.cov(stacked_w2)\n",
    "det_w2 = np.linalg.det(cov_w2)\n",
    "inverse_w2 = np.linalg.inv(cov_w2)\n",
    "\n",
    "stacked_w3 = np.stack((w3x1, w3x2, w3x3), axis = 0 )\n",
    "cov_w3 = np.cov(stacked_w3)\n",
    "det_w3 = np.linalg.det(cov_w3)\n",
    "inverse_w3 = np.linalg.inv(cov_w3)"
   ]
  },
  {
   "cell_type": "code",
   "execution_count": 20,
   "metadata": {},
   "outputs": [
    {
     "name": "stdout",
     "output_type": "stream",
     "text": [
      "-8.896633809823308\n",
      "-9.88817975608594\n",
      "-inf\n"
     ]
    }
   ],
   "source": [
    "x = np.array([-5.01, -8.12, -3.68])\n",
    "print(np.squeeze(q2_g1(x, w1_m, inverse_w1, det_w1)))\n",
    "print(np.squeeze(q2_g2(x, w2_m, inverse_w2, det_w2)))\n",
    "print(np.squeeze(q2_g3(x, w3_m, inverse_w3, det_w3)))"
   ]
  },
  {
   "cell_type": "code",
   "execution_count": 21,
   "metadata": {},
   "outputs": [
    {
     "name": "stdout",
     "output_type": "stream",
     "text": [
      "Missclassified Percentage in W1 is: 20.0\n",
      "Missclassified Percentage in W2 is: 10.0\n",
      "Missclassified Percentage in W3 is: 100.0\n",
      "Missclassified Percentage in the dataset: 43.333333333333336\n"
     ]
    }
   ],
   "source": [
    "def missclassified_qd():\n",
    "    count1 = 0\n",
    "    for i in range(len(w1x1)):\n",
    "        a = np.array([w1x1[i], w1x2[i], w1x3[i]])\n",
    "        if q2_g1(a, w1_m, inverse_w1, det_w1) < max(q2_g2(a, w2_m, inverse_w2, det_w2),q2_g3(a, w3_m, inverse_w3, det_w3)):\n",
    "            count1 += 1\n",
    "    print(\"Missclassified Percentage in W1 is: \" + str(count1*100/len(w1x1)))\n",
    "    count2 = 0\n",
    "    for i in range(len(w1x1)):\n",
    "        a = np.array([w2x1[i], w2x2[i], w2x3[i]])\n",
    "        if q2_g2(a, w2_m, inverse_w2, det_w2) < max(q2_g1(a, w1_m, inverse_w1, det_w1),q2_g3(a, w3_m, inverse_w3, det_w3)):\n",
    "            count2 += 1\n",
    "    print(\"Missclassified Percentage in W2 is: \" + str(count2*100/len(w1x2)))\n",
    "    count3 = 0\n",
    "    for i in range(len(w1x1)):\n",
    "        a = np.array([w3x1[i], w3x2[i], w3x3[i]])\n",
    "        if q2_g3(a, w3_m, inverse_w3, det_w3) < max(q2_g1(a, w1_m, inverse_w1, det_w1),q2_g3(a, w3_m, inverse_w3, det_w3)):\n",
    "            count3 += 1\n",
    "    print(\"Missclassified Percentage in W3 is: \" + str(count3*100/len(w1x3)))\n",
    "    print(\"Missclassified Percentage in the dataset: \" + str((count1+count2+count3)*100/(len(w1x1)+len(w1x2)+len(w1x3))))\n",
    "missclassified_qd()"
   ]
  },
  {
   "cell_type": "markdown",
   "metadata": {},
   "source": [
    "# Q 2E\n",
    "\n",
    "For 1 feature : Misclassified Percentage = 53.33% <br>\n",
    "For 2 features : Misclassified Percentage = 63.33% <br>\n",
    "For 3 features : Misclassified Percentage = 43.33% <br><br>\n",
    "The least amount of misclassification happened when all the 3 features were considered."
   ]
  },
  {
   "cell_type": "markdown",
   "metadata": {},
   "source": [
    "# Q 2F"
   ]
  },
  {
   "cell_type": "code",
   "execution_count": 22,
   "metadata": {},
   "outputs": [],
   "source": [
    "def print_class1(x,a) :\n",
    "    \n",
    "    v1 = np.squeeze(q2a_g1(x))\n",
    "    v2 = np.squeeze(q2a_g2(x))\n",
    "    v3 = np.squeeze(q2a_g3(x))\n",
    "    print(\"Value of discriminant function g1 = \", v1)\n",
    "    print(\"Value of discriminant function g2 = \", v2)\n",
    "    print(\"Value of discriminant function g3 = \", v3)\n",
    "    if(v1 >= v2 and v1 >= v3):\n",
    "        print(a, \" belongs to class w1\")\n",
    "    elif(v2 >= v1 and v2 >= v3):\n",
    "        print(a, \" belongs to class w2\")\n",
    "    else:\n",
    "        print(a, \" belongs to class w3\")"
   ]
  },
  {
   "cell_type": "code",
   "execution_count": 23,
   "metadata": {},
   "outputs": [],
   "source": [
    "def print_class2(x,a) :\n",
    "    \n",
    "    v1 = np.squeeze(q2_g1(x, w1_m_2d, inverse_w1_2d, det_w1_2d))\n",
    "    v2 = np.squeeze(q2_g2(x, w2_m_2d, inverse_w2_2d, det_w2_2d))\n",
    "    v3 = np.squeeze(q2_g3(x, w3_m_2d, inverse_w3_2d, det_w3_2d))\n",
    "    print(\"Value of discriminant function g1 = \", v1)\n",
    "    print(\"Value of discriminant function g2 = \", v2)\n",
    "    print(\"Value of discriminant function g3 = \", v3)\n",
    "    if(v1 >= v2 and v1 >= v3):\n",
    "        print(a, \" belongs to class w1\")\n",
    "    elif(v2 >= v1 and v2 >= v3):\n",
    "        print(a, \" belongs to class w2\")\n",
    "    else:\n",
    "        print(a, \" belongs to class w3\")"
   ]
  },
  {
   "cell_type": "code",
   "execution_count": 24,
   "metadata": {},
   "outputs": [],
   "source": [
    "def print_class3(x) :\n",
    "    \n",
    "    v1 = np.squeeze(q2_g1(x, w1_m, inverse_w1, det_w1))\n",
    "    v2 = np.squeeze(q2_g2(x, w2_m, inverse_w2, det_w2))\n",
    "    v3 = np.squeeze(q2_g3(x, w3_m, inverse_w3, det_w3))\n",
    "    print(\"Value of discriminant function g1 = \", v1)\n",
    "    print(\"Value of discriminant function g2 = \", v2)\n",
    "    print(\"Value of discriminant function g3 = \", v3)\n",
    "    if(v1 >= v2 and v1 >= v3):\n",
    "        print(x, \" belongs to class w1\")\n",
    "    elif(v2 >= v1 and v2 >= v3):\n",
    "        print(x, \" belongs to class w2\")\n",
    "    else:\n",
    "        print(x, \" belongs to class w3\")\n",
    "    # print(\"\\n\")\n",
    "    "
   ]
  },
  {
   "cell_type": "code",
   "execution_count": 25,
   "metadata": {},
   "outputs": [],
   "source": [
    "a = np.array([1,2,1])\n",
    "b = np.array([5,3,2])\n",
    "c = np.array([0,0,0])\n",
    "d = np.array([1,0,0])\n"
   ]
  },
  {
   "cell_type": "code",
   "execution_count": 26,
   "metadata": {},
   "outputs": [
    {
     "name": "stdout",
     "output_type": "stream",
     "text": [
      "Value of discriminant function g1 =  -3.017120237695602\n",
      "Value of discriminant function g2 =  -3.4475557697828276\n",
      "Value of discriminant function g3 =  -inf\n",
      "[1 2 1]  belongs to class w1\n",
      "Value of discriminant function g1 =  -3.973970790063545\n",
      "Value of discriminant function g2 =  -3.8323577276183105\n",
      "Value of discriminant function g3 =  -inf\n",
      "[5 3 2]  belongs to class w2\n",
      "Value of discriminant function g1 =  -2.9517539935658155\n",
      "Value of discriminant function g2 =  -3.4192359531004675\n",
      "Value of discriminant function g3 =  -inf\n",
      "[0 0 0]  belongs to class w1\n",
      "Value of discriminant function g1 =  -3.017120237695602\n",
      "Value of discriminant function g2 =  -3.4475557697828276\n",
      "Value of discriminant function g3 =  -inf\n",
      "[1 0 0]  belongs to class w1\n"
     ]
    }
   ],
   "source": [
    "print_class1(a[0], a)\n",
    "print_class1(b[0], b)\n",
    "print_class1(c[0], c)\n",
    "print_class1(d[0], d)"
   ]
  },
  {
   "cell_type": "code",
   "execution_count": 27,
   "metadata": {},
   "outputs": [
    {
     "name": "stdout",
     "output_type": "stream",
     "text": [
      "Value of discriminant function g1 =  -5.534212026807645\n",
      "Value of discriminant function g2 =  -5.802956490990918\n",
      "Value of discriminant function g3 =  -inf\n",
      "[1 2 1]  belongs to class w1\n",
      "Value of discriminant function g1 =  -6.229616887740281\n",
      "Value of discriminant function g2 =  -6.169275647064746\n",
      "Value of discriminant function g3 =  -inf\n",
      "[5 3 2]  belongs to class w2\n",
      "Value of discriminant function g1 =  -5.155657617180433\n",
      "Value of discriminant function g2 =  -5.530193310472056\n",
      "Value of discriminant function g3 =  -inf\n",
      "[0 0 0]  belongs to class w1\n",
      "Value of discriminant function g1 =  -5.1575542199924245\n",
      "Value of discriminant function g2 =  -5.546098366604559\n",
      "Value of discriminant function g3 =  -inf\n",
      "[1 0 0]  belongs to class w1\n"
     ]
    }
   ],
   "source": [
    "print_class2(a[0:2],a)\n",
    "print_class2(b[0:2],b)\n",
    "print_class2(c[0:2],c)\n",
    "print_class2(d[0:2],d)"
   ]
  },
  {
   "cell_type": "code",
   "execution_count": 28,
   "metadata": {},
   "outputs": [
    {
     "name": "stdout",
     "output_type": "stream",
     "text": [
      "Value of discriminant function g1 =  -7.926474384871603\n",
      "Value of discriminant function g2 =  -7.888496475068971\n",
      "Value of discriminant function g3 =  -inf\n",
      "[1 2 1]  belongs to class w2\n",
      "Value of discriminant function g1 =  -8.62373140800979\n",
      "Value of discriminant function g2 =  -9.061577888334702\n",
      "Value of discriminant function g3 =  -inf\n",
      "[5 3 2]  belongs to class w1\n",
      "Value of discriminant function g1 =  -7.531422860034783\n",
      "Value of discriminant function g2 =  -7.556398527758285\n",
      "Value of discriminant function g3 =  -inf\n",
      "[0 0 0]  belongs to class w1\n",
      "Value of discriminant function g1 =  -7.530091533434296\n",
      "Value of discriminant function g2 =  -7.622447688972072\n",
      "Value of discriminant function g3 =  -inf\n",
      "[1 0 0]  belongs to class w1\n"
     ]
    }
   ],
   "source": [
    "print_class3(a)\n",
    "print_class3(b)\n",
    "print_class3(c)\n",
    "print_class3(d)"
   ]
  },
  {
   "cell_type": "markdown",
   "metadata": {},
   "source": [
    "## Inference\n",
    "\n",
    "When only one and two features were considered, the points (1,2,1) and (5,3,2) were classified as w1 and w2 respectively. But when all the features were considered we found that they were classified as w2 and w1."
   ]
  },
  {
   "cell_type": "markdown",
   "metadata": {},
   "source": []
  }
 ],
 "metadata": {
  "interpreter": {
   "hash": "b3ba2566441a7c06988d0923437866b63cedc61552a5af99d1f4fb67d367b25f"
  },
  "kernelspec": {
   "display_name": "Python 3",
   "language": "python",
   "name": "python3"
  },
  "language_info": {
   "codemirror_mode": {
    "name": "ipython",
    "version": 3
   },
   "file_extension": ".py",
   "mimetype": "text/x-python",
   "name": "python",
   "nbconvert_exporter": "python",
   "pygments_lexer": "ipython3",
   "version": "3.8.8"
  }
 },
 "nbformat": 4,
 "nbformat_minor": 2
}
