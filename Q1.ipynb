{
 "cells": [
  {
   "cell_type": "code",
   "execution_count": 1,
   "id": "8d71801f",
   "metadata": {},
   "outputs": [],
   "source": [
    "import numpy as np\n",
    "import math\n",
    "import warnings as w\n",
    "w.filterwarnings(\"ignore\",category=RuntimeWarning)"
   ]
  },
  {
   "cell_type": "code",
   "execution_count": 2,
   "id": "66271fc7",
   "metadata": {},
   "outputs": [],
   "source": [
    "w1x1 = [-5.01, -5.43, 1.08, 0.86, -2.67, 4.94, -2.51, -2.25, 5.56, 1.03]\n",
    "w1x2 = [-8.12, -3.48, -5.52, -3.78, 0.63, 3.29, 2.09, -2.13, 2.86, -3.33]\n",
    "w1x3 = [-3.68, -3.54, 1.66, -4.11, 7.39, 2.08, -2.59, -6.94, -2.26, 4.33]"
   ]
  },
  {
   "cell_type": "code",
   "execution_count": 3,
   "id": "d4c7e53d",
   "metadata": {},
   "outputs": [],
   "source": [
    "w2x1 = [-0.91, 1.30, -7.75, -5.47, 6.14, 3.60, 5.37, 7.18, -7.39, -7.50]\n",
    "w2x2 = [-0.18, -2.06, -4.54, 0.50, 5.72, 1.26, -4.63, 1.46, 1.17, -6.32]\n",
    "w2x3 = [-0.05, -3.53, -0.95, 3.92, -4.85, 4.36, -3.65, -6.66, 6.30, -0.31]"
   ]
  },
  {
   "cell_type": "code",
   "execution_count": 4,
   "id": "8f1b2c76",
   "metadata": {},
   "outputs": [],
   "source": [
    "w3x1 = [5.35, 5.12, -1.34, 4.48, 7.11, 7.17, 5.75, 0.77, 0.90, 3.52]\n",
    "w3x2 = [2.26, 3.22, -5.31, 3.42, 2.39, 4.33, 3.97, 0.27, -0.43, -0.36]\n",
    "w3x3 = [8.13, -2.66, -9.87, 5.19, 9.21, -0.98, 6.65, 2.41, -8.71, 6.43]"
   ]
  },
  {
   "cell_type": "markdown",
   "id": "315c7287",
   "metadata": {},
   "source": [
    "### Finding the mean of each feature"
   ]
  },
  {
   "cell_type": "code",
   "execution_count": 5,
   "id": "f3bbefb0",
   "metadata": {},
   "outputs": [],
   "source": [
    "w1x1_m = np.mean(w1x1)\n",
    "w1x2_m = np.mean(w1x2)\n",
    "w1x3_m = np.mean(w1x3)\n",
    "w2x1_m = np.mean(w2x1)\n",
    "w2x2_m = np.mean(w2x2)\n",
    "w2x3_m = np.mean(w2x3)\n",
    "w3x1_m = np.mean(w3x1)\n",
    "w3x2_m = np.mean(w3x2)\n",
    "w3x3_m = np.mean(w3x3)"
   ]
  },
  {
   "cell_type": "markdown",
   "id": "ab5e053e",
   "metadata": {},
   "source": [
    "### Finding the Mean, Covariance matrix, determinant of covariance matrix and the Inverse"
   ]
  },
  {
   "cell_type": "code",
   "execution_count": 6,
   "id": "1aa9b8eb",
   "metadata": {},
   "outputs": [],
   "source": [
    "w1_m = np.array([w1x1_m, w1x2_m, w1x3_m])\n",
    "stacked_w1 = np.stack((w1x1, w1x2, w1x3), axis = 0 )\n",
    "cov_w1 = np.cov(stacked_w1)\n",
    "det_w1 = np.linalg.det(cov_w1)\n",
    "inverse_w1 = np.linalg.inv(cov_w1)\n",
    "\n",
    "w2_m = np.array([w2x1_m, w2x2_m, w2x3_m])\n",
    "stacked_w2 = np.stack((w2x1, w2x2, w2x3), axis = 0 )\n",
    "cov_w2 = np.cov(stacked_w2)\n",
    "det_w2 = np.linalg.det(cov_w2)\n",
    "inverse_w2 = np.linalg.inv(cov_w2)\n",
    "\n",
    "w3_m = np.array([w3x1_m, w3x2_m, w3x3_m])\n",
    "stacked_w3 = np.stack((w3x1, w3x2, w3x3), axis = 0 )\n",
    "cov_w3 = np.cov(stacked_w3)\n",
    "det_w3 = np.linalg.det(cov_w3)\n",
    "inverse_w3 = np.linalg.inv(cov_w3)"
   ]
  },
  {
   "cell_type": "code",
   "execution_count": 7,
   "id": "9b8e7931",
   "metadata": {},
   "outputs": [],
   "source": [
    "def xmean(x , mean) :\n",
    "    return (x - mean)"
   ]
  },
  {
   "cell_type": "markdown",
   "id": "0a59d95f",
   "metadata": {},
   "source": [
    "## Descriminant Function 1"
   ]
  },
  {
   "cell_type": "code",
   "execution_count": 8,
   "id": "31efa56f",
   "metadata": {},
   "outputs": [],
   "source": [
    "def g1(x) :\n",
    "    temp1 = xmean(x, w1_m)\n",
    "    temp1 = np.expand_dims(temp1,axis=0)\n",
    "    temp2 = np.transpose(temp1)\n",
    "    temp3 = (-1/2) * x.shape[0] * np.log(2 * math.pi)\n",
    "    temp4 = (-1/2) * np.log(det_w1)\n",
    "    temp5 = np.dot(temp1,inverse_w1)\n",
    "    temp6 = np.dot(temp5,temp2)\n",
    "    g = (-1/2) * temp6 + temp3 + temp4 + np.log(1/2) #Assuming prior probability is 1/2\n",
    "    return g"
   ]
  },
  {
   "cell_type": "markdown",
   "id": "97e11f6b",
   "metadata": {},
   "source": [
    "## Descriminant Function 2"
   ]
  },
  {
   "cell_type": "code",
   "execution_count": 9,
   "id": "960e2a9e",
   "metadata": {},
   "outputs": [],
   "source": [
    "def g2(x) :\n",
    "    temp1 = xmean(x, w2_m)\n",
    "    temp1 = np.expand_dims(temp1,axis=0)\n",
    "    temp2 = np.transpose(temp1)\n",
    "    temp3 = (-1/2) * x.shape[0] * np.log(2 * math.pi)\n",
    "    temp4 = (-1/2) * np.log(det_w2)\n",
    "    temp5 = np.dot(temp1,inverse_w2)\n",
    "    temp6 = np.dot(temp5,temp2)\n",
    "    g = (-1/2) * temp6 + temp3 + temp4 + np.log(1/2) #Assuming prior probability is 1/2\n",
    "    return g"
   ]
  },
  {
   "cell_type": "markdown",
   "id": "b5f80b26",
   "metadata": {},
   "source": [
    "## Descriminant Function 3"
   ]
  },
  {
   "cell_type": "code",
   "execution_count": 10,
   "id": "14f657a5",
   "metadata": {},
   "outputs": [],
   "source": [
    "def g3(x) :\n",
    "    temp1 = xmean(x, w3_m)\n",
    "    temp1 = np.expand_dims(temp1,axis=0)\n",
    "    temp2 = np.transpose(temp1)\n",
    "    temp3 = (-1/2) * x.shape[0] * np.log(2 * math.pi)\n",
    "    temp4 = (-1/2) * np.log(det_w3)\n",
    "    temp5 = np.dot(temp1,inverse_w3)\n",
    "    temp6 = np.dot(temp5,temp2)\n",
    "    g = (-1/2) * temp6 + temp3 + temp4 + np.log(0) #Assuming prior probability is 0\n",
    "    return g"
   ]
  },
  {
   "cell_type": "code",
   "execution_count": 11,
   "id": "05acf91b",
   "metadata": {},
   "outputs": [
    {
     "name": "stdout",
     "output_type": "stream",
     "text": [
      "-8.896633809823308\n",
      "-9.88817975608594\n",
      "-inf \n",
      "\n",
      "-10.64358361941817\n",
      "-9.661553242781624\n",
      "-inf \n",
      "\n",
      "-8.117617338652945\n",
      "-8.204471062638994\n",
      "-inf\n"
     ]
    }
   ],
   "source": [
    "x = np.array([-5.01, -8.12, -3.68])\n",
    "y = np.array([5.37, -4.63, -3.65])\n",
    "z = np.array([0.86, -3.78, -4.11])\n",
    "print(np.squeeze(g1(x)))\n",
    "print(np.squeeze(g2(x)))\n",
    "print(np.squeeze(g3(x)), \"\\n\")\n",
    "\n",
    "print(np.squeeze(g1(y)))\n",
    "print(np.squeeze(g2(y)))\n",
    "print(np.squeeze(g3(y)), \"\\n\")\n",
    "\n",
    "print(np.squeeze(g1(z)))\n",
    "print(np.squeeze(g2(z)))\n",
    "print(np.squeeze(g3(z)))"
   ]
  },
  {
   "cell_type": "markdown",
   "id": "98d69bc9",
   "metadata": {},
   "source": [
    "#### Hence the three dicriminant functions are successfully created"
   ]
  }
 ],
 "metadata": {
  "kernelspec": {
   "display_name": "Python 3",
   "language": "python",
   "name": "python3"
  },
  "language_info": {
   "codemirror_mode": {
    "name": "ipython",
    "version": 3
   },
   "file_extension": ".py",
   "mimetype": "text/x-python",
   "name": "python",
   "nbconvert_exporter": "python",
   "pygments_lexer": "ipython3",
   "version": "3.8.8"
  }
 },
 "nbformat": 4,
 "nbformat_minor": 5
}
